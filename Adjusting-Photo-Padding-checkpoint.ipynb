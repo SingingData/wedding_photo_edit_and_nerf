{
 "cells": [
  {
   "cell_type": "markdown",
   "id": "3e269696",
   "metadata": {},
   "source": [
    "## Adding Photo Margin Padding for Print\n",
    "### When your photographer's images are awkwardly cropped and don't allow for print margin cropping"
   ]
  },
  {
   "cell_type": "code",
   "execution_count": 14,
   "id": "9ce95e6f",
   "metadata": {},
   "outputs": [],
   "source": [
    "import cv2\n",
    "import numpy as np\n",
    "import os\n",
    "import math"
   ]
  },
  {
   "cell_type": "code",
   "execution_count": 15,
   "id": "477b0e8e",
   "metadata": {},
   "outputs": [
    {
     "data": {
      "text/plain": [
       "'C:\\\\Users\\\\patty\\\\pics'"
      ]
     },
     "execution_count": 15,
     "metadata": {},
     "output_type": "execute_result"
    }
   ],
   "source": [
    "os.getcwd()"
   ]
  },
  {
   "cell_type": "code",
   "execution_count": 27,
   "id": "8abd4829",
   "metadata": {},
   "outputs": [
    {
     "data": {
      "text/plain": [
       "'C:\\\\Users\\\\patty\\\\pics\\\\Buffer_and_print'"
      ]
     },
     "execution_count": 27,
     "metadata": {},
     "output_type": "execute_result"
    }
   ],
   "source": [
    "os.chdir('C:\\\\Users\\\\patty\\\\pics\\\\Buffer_and_print')\n",
    "os.getcwd()"
   ]
  },
  {
   "cell_type": "code",
   "execution_count": 31,
   "id": "0d70da1f",
   "metadata": {},
   "outputs": [],
   "source": [
    "# os.listdir()"
   ]
  },
  {
   "cell_type": "code",
   "execution_count": 32,
   "id": "98b4498f",
   "metadata": {},
   "outputs": [],
   "source": [
    "files = [f for f in os.listdir('.') if os.path.isfile(f)]\n"
   ]
  },
  {
   "cell_type": "code",
   "execution_count": null,
   "id": "973e8fae",
   "metadata": {},
   "outputs": [],
   "source": [
    "# read image\n",
    "\n",
    "color = (255,255,255)\n",
    "\n",
    "for file in files: \n",
    "    img = cv2.imread(file)\n",
    "    old_image_height, old_image_width, channels = img.shape\n",
    "    print(file)\n",
    "    print(old_image_height)\n",
    "    print(old_image_width)\n",
    "    print(\" \")\n",
    "    newsize_heightwithbuffer = math.floor(old_image_height + (old_image_height*.08))\n",
    "    newsize_widthwithbuffer = math.floor(old_image_width + (old_image_width*.08))\n",
    "    # create new image of desired size and color (blue) for padding\n",
    "    result = np.full((newsize_heightwithbuffer,newsize_widthwithbuffer, channels), color, dtype=np.uint8)\n",
    "    \n",
    "    # compute center offset\n",
    "    x_center = (newsize_widthwithbuffer - old_image_width) // 2\n",
    "    y_center = (newsize_heightwithbuffer - old_image_height) // 2\n",
    "    \n",
    "    # copy img image into center of result image\n",
    "    result[y_center:y_center+old_image_height, x_center:x_center+old_image_width] = img\n",
    "    \n",
    "    # save result\n",
    "    os.chdir('C:\\\\Users\\\\patty\\\\pics\\\\Buffer_and_print\\\\buffered')\n",
    "    cv2.imwrite(file, result) \n",
    "    os.chdir('C:\\\\Users\\\\patty\\\\pics\\\\Buffer_and_print')\n",
    "\n"
   ]
  },
  {
   "cell_type": "markdown",
   "id": "c774dde4",
   "metadata": {},
   "source": [
    "### End"
   ]
  },
  {
   "cell_type": "code",
   "execution_count": null,
   "id": "8a94e480",
   "metadata": {},
   "outputs": [],
   "source": []
  }
 ],
 "metadata": {
  "kernelspec": {
   "display_name": "Python 3 (ipykernel)",
   "language": "python",
   "name": "python3"
  },
  "language_info": {
   "codemirror_mode": {
    "name": "ipython",
    "version": 3
   },
   "file_extension": ".py",
   "mimetype": "text/x-python",
   "name": "python",
   "nbconvert_exporter": "python",
   "pygments_lexer": "ipython3",
   "version": "3.9.12"
  }
 },
 "nbformat": 4,
 "nbformat_minor": 5
}
